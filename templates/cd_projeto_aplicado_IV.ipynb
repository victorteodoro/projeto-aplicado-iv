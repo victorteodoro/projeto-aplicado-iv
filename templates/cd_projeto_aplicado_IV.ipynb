{
 "nbformat": 4,
 "nbformat_minor": 0,
 "metadata": {
  "colab": {
   "provenance": [],
   "include_colab_link": true
  },
  "kernelspec": {
   "name": "python3",
   "display_name": "Python 3"
  },
  "language_info": {
   "name": "python"
  }
 },
 "cells": [
  {
   "cell_type": "markdown",
   "metadata": {
    "id": "view-in-github",
    "colab_type": "text"
   },
   "source": [
    "<a href=\"https://colab.research.google.com/github/scalabrinig/cdProjetoAplicadoIV/blob/master/projeto/cd_projeto_aplicado_IV.ipynb\" target=\"_parent\"><img src=\"https://colab.research.google.com/assets/colab-badge.svg\" alt=\"Open In Colab\"/></a>"
   ]
  },
  {
   "cell_type": "markdown",
   "source": [
    "  <img src=\"https://raw.githubusercontent.com/scalabrinig/cdProjetoAplicadoIV/d093146488f56dfcf0ef286bcee8efe0e71b9c76/figuras/mackenzie_logo.jpg\" width=\"25%\" align=\"right\"/>\n",
    "\n",
    "# **PROJETO APLICADO IV - Ciência de Dados EaD - 2025/01**\n",
    "\n",
    "---"
   ],
   "metadata": {
    "id": "Ux5TSX--qOft"
   }
  },
  {
   "cell_type": "markdown",
   "source": [
    "# **Objetivo**:\n",
    "\n",
    "Desenvolver um produto analítico envolvendo séries temporais. O projeto deve incluir as fases de concepção, implementação e apresentação do projeto para um cliente. Escolher um tema em que os dados são organizados em formato de série temporal."
   ],
   "metadata": {
    "id": "-UJ6Rj9jrJFM"
   }
  },
  {
   "cell_type": "markdown",
   "source": [
    " **Recomendações**\n",
    "\n",
    "Algumas recomendações importantes que podem ajudar a nortear a escolha do projeto.\n",
    "\n",
    "1. **Dados atuais e problema relevante**. O projeto deve buscar resolver uma problema relevante. Ele deve resolver um problema real de uma empresa ou da sociedade e, portanto, você deve empregar dados atuais.\n",
    "\n",
    "2. **Empregue dados próprios**, isto é, evite empregar fontes de dados públicos de fontes secundárias e dados pré-processados como as bases do Kaggle. Procure empregar dados de empresas ou, se forem empregados dados públicos, empregue dados de fontes originais como do governo (ibge, ipea, inpe, inep, info.dengue.mat.br etc.). Podem ser também obtidos dados a partir de API's de serviços.\n",
    "\n",
    "3. **Explore um ou mais algoritmos de Aprendizado de Máquina**. Embora a Ciência de Dados inclua análise exploratória, isso pode ser bastante limitado para tratar Séries Temporais. O uso de algoritmos de Aprendizado de Máquina e de Modelos Estatísticos são, portanto, recomendados para implementação do projeto podendo ser empregados para previsões, detecção de anomalias, geração automática de decisões (preços, recomendações etc.).\n",
    "\n",
    "4. **Referências**. Busque referências bibliográficas que embasem o seu trabalho. Um estudo semelhante, um projeto já realizado, podem constituir um ponto de partida e são parte obrigatória de um bom projeto.\n",
    "\n",
    "5. **Implementação excutável**. O projeto deve ser executável e reproduzível, sendo assim fornecido todo o necessário para sua execução (dados, códigos etc.). Evite disponibilizar soluções proprietárias e, quando empregadas, indique soluções para acesso total ou parcial.\n",
    "\n",
    "6. **Texto e Apresentação**. A comunicação de um projeto é também essencial, não descuidem, portanto do texto e da apresentação.\n",
    "\n",
    "7. **ODS e Caráter Extensionista**. Esta componente tem caráter extensionista e, por isso, ela deve obrigatoriamente buscar fazer uma contribuição à sociedade e estar vinculada a uma das [ODS](https://www.undp.org/sustainable-development-goals) Objetivos de Desenvolvimento Sustentável (Sustainable Development Goals). A contribuição minimamente esperada, é o compartilhamento público do projeto, para que indivíduos e a comunidade interessada no projeto tenha acesso a suas contribuições."
   ],
   "metadata": {
    "id": "b5YjFKI1rTcy"
   }
  },
  {
   "cell_type": "markdown",
   "source": [
    "# **Entregas**\n"
   ],
   "metadata": {
    "id": "AvUZnJYUsQlV"
   }
  },
  {
   "cell_type": "markdown",
   "source": [
    "## **[1] Definição do projeto e equipe** **(28/02)**\n",
    "\n",
    "Checkpoint em: **19/02**\n",
    "\n",
    "### Entregáveis:\n",
    "\n",
    "* **Definição da Equipe**\n",
    "  \n",
    "  * Até 5 alunos\n",
    "\n",
    "* **Proposta do Projeto**\n",
    "\n",
    "  * **Título do Projeto**\n",
    "\n",
    "  * **Introdução**: *Apresentar o contexto temático no qual o projeto se desenvolve, incluindo a área de conhecimento envolvida, além da descrição e do detalhamento do problema selecionado.*\n",
    "\n",
    "  * **Motivações e justificativa**: *Conter argumentos que demonstrem a relevância do tema, os interesses e benefícios envolvidos e o potencial de aplicabilidade da solução.*\n",
    "  \n",
    "  * **Objetivo**: *Descrever as pretensões e metas a serem alcançadas pelo projeto em relação ao problema escolhido pelo grupo e descrito na introdução.*\n",
    "\n",
    "  * **Descrição da base de dados**: *Apresentar a descrição do conjunto de dados que será usado no trabalho e apontando quais informações estão disponíveis, sua estrutura e organização, sua forma e seu período de coleta, além da indicação da fonte de dados.*\n",
    "\n",
    "  * **Referências**: *Expor a relação dos recursos utilizados na elaboração do documento, desde que tenham sido devidamente citados. Para isso, devem ser utilizadas as normas da ABNT.*\n",
    "\n",
    "  * **OBS**: *Esses itens serão mesclados na elaboração da introdução da segunda entrega*\n",
    "\n",
    "### Critérios de Avaliação:\n",
    "\n",
    "* (25%) Descrição dos itens da introdução. *Atualidade, importância*.\n",
    "\n",
    "* (25%) Fonte dos dados. *Complexidade, volume, originalidade, tratamento de dados real-time (streaming)*.\n",
    "\n",
    "* (25%) Solução proposta. *Adequação e viabilidade da solução proposta*.\n",
    "\n",
    "* (15%) Referências. *Qualidade e aderência das referências*.\n",
    "\n",
    "* (10%) Apresentação geral da atividade. *Texto, qualidade, clareza etc.*\n",
    "  "
   ],
   "metadata": {
    "id": "GyZdveeCsUN7"
   }
  },
  {
   "cell_type": "markdown",
   "source": [
    "## **[2] Referencial Teórico e Cronograma** **(28/03)**\n",
    "\n",
    "Checkpoint em: **19/03**\n",
    "\n",
    "### Entregáveis:\n",
    "\n",
    "* **Referencial Teórico**. *(*máximo 1 página*) Discutir os trabalhos correlacionados. Busque apresentar alternativas de solução que foram empregadas no mesmo problema ou problemas semelhantes, e suas vantagens e limitações. Definir resumidamente os principais conceitos envolvidos na sua solução. Indicar referências ao longo do texto.*\n",
    "\n",
    "* **Pipeline da Solução**. *Apresentar e discutir o pipeline da solução proposta.*\n",
    "\n",
    "* **Cronograma**. *Apresentar um cronograma detalhado das entregas do seu projeto que contemple as datas de entrega das atividades.*\n",
    "\n",
    "### Critérios de Avaliação:\n",
    "\n",
    "* (40%) Referencial Teórico. *Texto claro, atendendo o conteúdo e tamanho propostos. Qualidade e atualidade das referências. Apresentação correta dos conceitos envolvidos*.\n",
    "\n",
    "* (40%) Pipeline de Solução. *Viabilidade e clareza da solução inicial proposta.*\n",
    "\n",
    "* (20%) Cronograma. *Viabilidade, detalhamento e clareza das tarefas e prazos propostos.*"
   ],
   "metadata": {
    "id": "goTLKzXzwFKN"
   }
  },
  {
   "cell_type": "markdown",
   "source": [
    "## **[3] Implementação Parcial** **(25/04)**\n",
    "\n",
    "Checkpoint em: **16/04**\n",
    "\n",
    "### Entregáveis:\n",
    "\n",
    "* **Notebook do Projeto**. *Deve conter o texto do projeto e principais códigos, sendo 100% executável e reproduzível.*\n",
    "\n",
    "* **Análise exploratória e Pré-processamento dos dados**. *Exploração e análise inicial dos dados. Discussão e análise dos dados empregados (qualidade, limitações, simplicações ou recortes adotados etc.). Tarefas de preparação dos dados (transformações, compactação e encodes, junções de dados etc.)*.\n",
    "\n",
    "* **Modelo base**. *Aplicação de ao menos um primeiro modelo base (modelo de aprendizado de máquina ou modelo estatístico) que deve ser refinado até a entrega final do projeto. Apresentar o método aplicado e a análise dos resultados obtidos*.\n",
    "\n",
    "* **Cronograma atualizado**. *Foco nas atividades faltantes e revisão das tarefas*.\n",
    "\n",
    "* **Atualização do pipeline proposto**. *Revisão da solução quando necessário*.\n",
    "\n",
    "### Critérios de Avaliação:\n",
    "\n",
    "* (40%) Análise exploratório e Pré-processamento dos dados. *Adequação dos métodos empregados; variedade e seleção das técnicas empregadas; resultados apresentados*.\n",
    "\n",
    "* (20%) Modelo base. *Adequação do método proposto; métricas aplicadas; resultados parciais obtidos*.\n",
    "\n",
    "* (20%) Revisão. *Avanço de acordo com o cronograma; identificação de problemas e revisão da solução e tarefas*.\n",
    "\n",
    "* (20%) Apresentação geral da entrega. *Qualidade do texto, código e apresentação.*"
   ],
   "metadata": {
    "id": "oqc5opJ592Iw"
   }
  },
  {
   "cell_type": "markdown",
   "source": [
    "## **[4] Implementação e Entrega Final** **(30/05)**\n",
    "\n",
    "Checkpoint em: **21/05**\n",
    "\n",
    "### Entregáveis:\n",
    "\n",
    "* **GitHub do Projeto**. *GitHub com todos os artefatos e documentos do projeto. Recomenda-se criar uma organização no GitHub, evitando-se assim o uso de uma única conta pessoal. Códigos do projeto incluindo notebooks e outros tipos de código, dados (quando volume superior ao permitido no GitHub, disponibilizar em um Drive público), documentação do projeto (texto do trabalho, vídeos, artigo), readme de apresentação etc.*\n",
    "\n",
    "* **Vídeo de Apresentação do Projeto**. *5~10min. Apresentação do problema, justificativa, trabalhos relacionados, métodos empregados e principais resultados. Apresentação da solução técnica. Apresentação e discussão dos métodos, diferenciais técnicos da solução, execuções e simulações, principais desafios (dificuldades encontradas) e potenciais melhorias da solução. O vídeo pode ser publicado no YouTube.*\n",
    "  \n",
    "* **Notebook do Projeto**. *Deve conter o texto do projeto e principais códigos, sendo 100% executável e reproduzível.*\n",
    "\n",
    "* **Artigo do Projeto**. *Deve conter o texto do projeto em formato de artigo para entrega no Moodle.*\n",
    "\n",
    "### Critérios de Avaliação:\n",
    "\n",
    "* (10%) Problema. *Atualidade e importância; complexidade; adequação dos dados para a solução do problema proposto.*.\n",
    "\n",
    "* (20%) Metodologia empregada. *Adequação dos métodos; variedade e seleção das técnicas empregadas; métricas aplicadas; embasamento e diferencial com relação a trabalhos relacionados; resultados obtidos*.\n",
    "\n",
    "* (20%) Resultados. resumo dos resultados obtidos, como métricas, tabelas comparativas etc.\n",
    "\n",
    "* (10%) Conclusões. *Conclusões; análise crítica do trabalho (suas qualidades e limitações); alcance do objetivo inicial (a solução do problema); potenciais melhorias no projeto*.\n",
    "\n",
    "* (20%) Artigo. *Transcrição do texto do projeto em formato de artigo científico*.\n",
    "\n",
    "* (20%) Apresentação do projeto. *Qualidade código e apresentações.*"
   ],
   "metadata": {
    "id": "znQKANH3H7W2"
   }
  },
  {
   "cell_type": "markdown",
   "source": [
    "# **Templates**\n",
    "\n",
    "[Template - Entrega 1](https://github.com/scalabrinig/cdProjetoAplicadoIV/blob/master/projeto/cd_projeto_aplicado_IV_entrega_1.ipynb)\n",
    "\n",
    "[Template - Entrega 2](https://github.com/scalabrinig/cdProjetoAplicadoIV/blob/master/projeto/cd_projeto_aplicado_IV_entrega_2.ipynb)\n",
    "\n",
    "[Template - Entrega 3](https://github.com/scalabrinig/cdProjetoAplicadoIV/blob/master/projeto/cd_projeto_aplicado_IV_entrega_3.ipynb)\n",
    "\n",
    "[Template - Entrega 4](https://github.com/scalabrinig/cdProjetoAplicadoIV/blob/master/projeto/cd_projeto_aplicado_IV_entrega_4.ipynb)"
   ],
   "metadata": {
    "id": "9muW46VWMRV-"
   }
  }
 ]
}
